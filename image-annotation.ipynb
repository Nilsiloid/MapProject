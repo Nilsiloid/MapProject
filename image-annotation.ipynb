{
 "cells": [
  {
   "cell_type": "code",
   "execution_count": 1,
   "id": "2d5c8266",
   "metadata": {
    "execution": {
     "iopub.execute_input": "2023-09-08T06:17:35.150601Z",
     "iopub.status.busy": "2023-09-08T06:17:35.150049Z",
     "iopub.status.idle": "2023-09-08T06:18:16.678302Z",
     "shell.execute_reply": "2023-09-08T06:18:16.676901Z"
    },
    "papermill": {
     "duration": 41.536206,
     "end_time": "2023-09-08T06:18:16.681079",
     "exception": false,
     "start_time": "2023-09-08T06:17:35.144873",
     "status": "completed"
    },
    "tags": []
   },
   "outputs": [
    {
     "name": "stdout",
     "output_type": "stream",
     "text": [
      "Collecting roboflow\r\n",
      "  Downloading roboflow-1.1.6-py3-none-any.whl (58 kB)\r\n",
      "\u001b[2K     \u001b[90m━━━━━━━━━━━━━━━━━━━━━━━━━━━━━━━━━━━━━━━━\u001b[0m \u001b[32m58.7/58.7 kB\u001b[0m \u001b[31m2.0 MB/s\u001b[0m eta \u001b[36m0:00:00\u001b[0m\r\n",
      "\u001b[?25hCollecting certifi==2022.12.7 (from roboflow)\r\n",
      "  Downloading certifi-2022.12.7-py3-none-any.whl (155 kB)\r\n",
      "\u001b[2K     \u001b[90m━━━━━━━━━━━━━━━━━━━━━━━━━━━━━━━━━━━━━━━\u001b[0m \u001b[32m155.3/155.3 kB\u001b[0m \u001b[31m7.2 MB/s\u001b[0m eta \u001b[36m0:00:00\u001b[0m\r\n",
      "\u001b[?25hCollecting chardet==4.0.0 (from roboflow)\r\n",
      "  Downloading chardet-4.0.0-py2.py3-none-any.whl (178 kB)\r\n",
      "\u001b[2K     \u001b[90m━━━━━━━━━━━━━━━━━━━━━━━━━━━━━━━━━━━━━━\u001b[0m \u001b[32m178.7/178.7 kB\u001b[0m \u001b[31m13.9 MB/s\u001b[0m eta \u001b[36m0:00:00\u001b[0m\r\n",
      "\u001b[?25hCollecting cycler==0.10.0 (from roboflow)\r\n",
      "  Downloading cycler-0.10.0-py2.py3-none-any.whl (6.5 kB)\r\n",
      "Collecting idna==2.10 (from roboflow)\r\n",
      "  Downloading idna-2.10-py2.py3-none-any.whl (58 kB)\r\n",
      "\u001b[2K     \u001b[90m━━━━━━━━━━━━━━━━━━━━━━━━━━━━━━━━━━━━━━━━\u001b[0m \u001b[32m58.8/58.8 kB\u001b[0m \u001b[31m5.1 MB/s\u001b[0m eta \u001b[36m0:00:00\u001b[0m\r\n",
      "\u001b[?25hRequirement already satisfied: kiwisolver>=1.3.1 in /opt/conda/lib/python3.10/site-packages (from roboflow) (1.4.4)\r\n",
      "Requirement already satisfied: matplotlib in /opt/conda/lib/python3.10/site-packages (from roboflow) (3.7.2)\r\n",
      "Requirement already satisfied: numpy>=1.18.5 in /opt/conda/lib/python3.10/site-packages (from roboflow) (1.23.5)\r\n",
      "Collecting opencv-python-headless==4.8.0.74 (from roboflow)\r\n",
      "  Downloading opencv_python_headless-4.8.0.74-cp37-abi3-manylinux_2_17_x86_64.manylinux2014_x86_64.whl (49.1 MB)\r\n",
      "\u001b[2K     \u001b[90m━━━━━━━━━━━━━━━━━━━━━━━━━━━━━━━━━━━━━━━━\u001b[0m \u001b[32m49.1/49.1 MB\u001b[0m \u001b[31m21.3 MB/s\u001b[0m eta \u001b[36m0:00:00\u001b[0m\r\n",
      "\u001b[?25hRequirement already satisfied: Pillow>=7.1.2 in /opt/conda/lib/python3.10/site-packages (from roboflow) (9.5.0)\r\n",
      "Collecting pyparsing==2.4.7 (from roboflow)\r\n",
      "  Downloading pyparsing-2.4.7-py2.py3-none-any.whl (67 kB)\r\n",
      "\u001b[2K     \u001b[90m━━━━━━━━━━━━━━━━━━━━━━━━━━━━━━━━━━━━━━━━\u001b[0m \u001b[32m67.8/67.8 kB\u001b[0m \u001b[31m6.4 MB/s\u001b[0m eta \u001b[36m0:00:00\u001b[0m\r\n",
      "\u001b[?25hRequirement already satisfied: python-dateutil in /opt/conda/lib/python3.10/site-packages (from roboflow) (2.8.2)\r\n",
      "Requirement already satisfied: python-dotenv in /opt/conda/lib/python3.10/site-packages (from roboflow) (1.0.0)\r\n",
      "Requirement already satisfied: requests in /opt/conda/lib/python3.10/site-packages (from roboflow) (2.31.0)\r\n",
      "Requirement already satisfied: six in /opt/conda/lib/python3.10/site-packages (from roboflow) (1.16.0)\r\n",
      "Collecting supervision (from roboflow)\r\n",
      "  Downloading supervision-0.14.0-py3-none-any.whl (63 kB)\r\n",
      "\u001b[2K     \u001b[90m━━━━━━━━━━━━━━━━━━━━━━━━━━━━━━━━━━━━━━━━\u001b[0m \u001b[32m63.3/63.3 kB\u001b[0m \u001b[31m4.6 MB/s\u001b[0m eta \u001b[36m0:00:00\u001b[0m\r\n",
      "\u001b[?25hRequirement already satisfied: urllib3>=1.26.6 in /opt/conda/lib/python3.10/site-packages (from roboflow) (1.26.15)\r\n",
      "Requirement already satisfied: tqdm>=4.41.0 in /opt/conda/lib/python3.10/site-packages (from roboflow) (4.66.1)\r\n",
      "Requirement already satisfied: PyYAML>=5.3.1 in /opt/conda/lib/python3.10/site-packages (from roboflow) (6.0)\r\n",
      "Requirement already satisfied: requests-toolbelt in /opt/conda/lib/python3.10/site-packages (from roboflow) (0.10.1)\r\n",
      "Requirement already satisfied: contourpy>=1.0.1 in /opt/conda/lib/python3.10/site-packages (from matplotlib->roboflow) (1.1.0)\r\n",
      "Requirement already satisfied: fonttools>=4.22.0 in /opt/conda/lib/python3.10/site-packages (from matplotlib->roboflow) (4.40.0)\r\n",
      "Requirement already satisfied: packaging>=20.0 in /opt/conda/lib/python3.10/site-packages (from matplotlib->roboflow) (21.3)\r\n",
      "Requirement already satisfied: charset-normalizer<4,>=2 in /opt/conda/lib/python3.10/site-packages (from requests->roboflow) (3.1.0)\r\n",
      "Requirement already satisfied: scipy<2.0.0,>=1.9.0 in /opt/conda/lib/python3.10/site-packages (from supervision->roboflow) (1.11.2)\r\n",
      "Installing collected packages: pyparsing, opencv-python-headless, idna, cycler, chardet, certifi, supervision, roboflow\r\n",
      "  Attempting uninstall: pyparsing\r\n",
      "    Found existing installation: pyparsing 3.0.9\r\n",
      "    Uninstalling pyparsing-3.0.9:\r\n",
      "      Successfully uninstalled pyparsing-3.0.9\r\n",
      "  Attempting uninstall: opencv-python-headless\r\n",
      "    Found existing installation: opencv-python-headless 4.8.0.76\r\n",
      "    Uninstalling opencv-python-headless-4.8.0.76:\r\n",
      "      Successfully uninstalled opencv-python-headless-4.8.0.76\r\n",
      "  Attempting uninstall: idna\r\n",
      "    Found existing installation: idna 3.4\r\n",
      "    Uninstalling idna-3.4:\r\n",
      "      Successfully uninstalled idna-3.4\r\n",
      "  Attempting uninstall: cycler\r\n",
      "    Found existing installation: cycler 0.11.0\r\n",
      "    Uninstalling cycler-0.11.0:\r\n",
      "      Successfully uninstalled cycler-0.11.0\r\n",
      "  Attempting uninstall: certifi\r\n",
      "    Found existing installation: certifi 2023.7.22\r\n",
      "    Uninstalling certifi-2023.7.22:\r\n",
      "      Successfully uninstalled certifi-2023.7.22\r\n",
      "\u001b[31mERROR: pip's dependency resolver does not currently take into account all the packages that are installed. This behaviour is the source of the following dependency conflicts.\r\n",
      "jupyterlab-lsp 4.2.0 requires jupyter-lsp>=2.0.0, but you have jupyter-lsp 1.5.1 which is incompatible.\r\n",
      "momepy 0.6.0 requires shapely>=2, but you have shapely 1.8.5.post1 which is incompatible.\r\n",
      "pytoolconfig 1.2.5 requires packaging>=22.0, but you have packaging 21.3 which is incompatible.\r\n",
      "ydata-profiling 4.3.1 requires scipy<1.11,>=1.4.1, but you have scipy 1.11.2 which is incompatible.\u001b[0m\u001b[31m\r\n",
      "\u001b[0mSuccessfully installed certifi-2022.12.7 chardet-4.0.0 cycler-0.10.0 idna-2.10 opencv-python-headless-4.8.0.74 pyparsing-2.4.7 roboflow-1.1.6 supervision-0.14.0\r\n"
     ]
    }
   ],
   "source": [
    "import os\n",
    "!pip install roboflow\n",
    "\n",
    "# # infer on a local image\n",
    "# print(model.predict(\"map_5942.png\", confidence=40, overlap=30).json())\n",
    "\n",
    "# # visualize your prediction\n",
    "# prediction = model.predict(\"map_5942.png\", confidence=40, overlap=30)\n",
    "# output_path = \"annotated/prediction.jpg\n",
    "# model.save(output_path)\n",
    "\n",
    "# # infer on an image hosted elsewhere\n",
    "# # print(model.predict(\"URL_OF_YOUR_IMAGE\", hosted=True, confidence=40, overlap=30).json())\n"
   ]
  },
  {
   "cell_type": "code",
   "execution_count": 2,
   "id": "3867ad04",
   "metadata": {
    "_cell_guid": "b1076dfc-b9ad-4769-8c92-a6c4dae69d19",
    "_uuid": "8f2839f25d086af736a60e9eeb907d3b93b6e0e5",
    "execution": {
     "iopub.execute_input": "2023-09-08T06:18:16.697752Z",
     "iopub.status.busy": "2023-09-08T06:18:16.697371Z",
     "iopub.status.idle": "2023-09-08T06:18:24.120057Z",
     "shell.execute_reply": "2023-09-08T06:18:24.118917Z"
    },
    "papermill": {
     "duration": 7.43396,
     "end_time": "2023-09-08T06:18:24.122842",
     "exception": false,
     "start_time": "2023-09-08T06:18:16.688882",
     "status": "completed"
    },
    "tags": []
   },
   "outputs": [
    {
     "name": "stderr",
     "output_type": "stream",
     "text": [
      "A NumPy version >=1.16.5 and <1.23.0 is required for this version of SciPy (detected version 1.23.5\n"
     ]
    },
    {
     "name": "stdout",
     "output_type": "stream",
     "text": [
      "loading Roboflow workspace...\n",
      "loading Roboflow project...\n"
     ]
    }
   ],
   "source": [
    "from roboflow import Roboflow\n",
    "rf = Roboflow(api_key=\"dyPJst8tgBLfjP9jKEqK\")\n",
    "project = rf.workspace().project(\"mapproject\")\n",
    "model = project.version(4).model\n",
    "\n",
    "image_files = [f for f in os.listdir(path=\"/kaggle/input/dv-pe/discrete_mapping/discrete_mapping\") if f.endswith(('.jpg', '.jpeg', '.png', '.bmp'))]\n",
    "os.mkdir(\"/kaggle/working/annotated\")\n",
    "\n",
    "i=1\n",
    "for img in image_files:\n",
    "    if(i<=10):\n",
    "#         print(img)\n",
    "        source_path = \"/kaggle/input/dv-pe/discrete_mapping/discrete_mapping/\" + img\n",
    "        prediction = model.predict(source_path, confidence=40, overlap=30)\n",
    "        file_num = img[4:-4]\n",
    "        pred_name = \"prediction_\"+file_num+\".jpg\"\n",
    "        output_path = \"/kaggle/working/annotated/\" + pred_name\n",
    "        i+=1\n",
    "#         print(output_path)\n",
    "        prediction.save(output_path)\n",
    "\n",
    "# prediction = model.predict(\"/kaggle/input/dv-pe/discrete_mapping/discrete_mapping/map_1.png\", confidence=40, overlap=30).save(\"test.jpg\")\n",
    "# file_num = img[4:-4]\n",
    "# pred_name = \"prediction_\"+file_num+\".jpg\"\n",
    "# output_path = \"annotated/\" + pred_name\n",
    "# model.save(output_path)\n"
   ]
  }
 ],
 "kernelspec": {
  "display_name": "Python 3",
  "language": "python",
  "name": "python3"
 },
 "language_info": {
  "codemirror_mode": {
   "name": "ipython",
   "version": 3
  },
  "file_extension": ".py",
  "mimetype": "text/x-python",
  "name": "python",
  "nbconvert_exporter": "python",
  "pygments_lexer": "ipython3",
  "version": "3.6.4"
 },
 "metadata": {
  "kernelspec": {
   "display_name": "Python 3",
   "language": "python",
   "name": "python3"
  },
  "language_info": {
   "codemirror_mode": {
    "name": "ipython",
    "version": 3
   },
   "file_extension": ".py",
   "mimetype": "text/x-python",
   "name": "python",
   "nbconvert_exporter": "python",
   "pygments_lexer": "ipython3",
   "version": "3.10.12"
  },
  "papermill": {
   "default_parameters": {},
   "duration": 54.078292,
   "end_time": "2023-09-08T06:18:24.448962",
   "environment_variables": {},
   "exception": null,
   "input_path": "__notebook__.ipynb",
   "output_path": "__notebook__.ipynb",
   "parameters": {},
   "start_time": "2023-09-08T06:17:30.370670",
   "version": "2.4.0"
  }
 },
 "nbformat": 4,
 "nbformat_minor": 5
}
